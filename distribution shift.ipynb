{
 "cells": [
  {
   "cell_type": "code",
   "execution_count": null,
   "metadata": {},
   "outputs": [],
   "source": [
    "import numpy as np\n",
    "import seaborn as sns\n",
    "import matplotlib.pyplot as plt\n",
    "\n",
    "from tqdm import tqdm\n",
    "from scipy.special import gamma\n",
    "from itertools import combinations\n",
    "\n",
    "sns.set_style('white')\n",
    "np.random.seed(42)"
   ]
  },
  {
   "cell_type": "code",
   "execution_count": null,
   "metadata": {},
   "outputs": [],
   "source": [
    "def pos_to_distance(pos: np.ndarray) -> np.ndarray:\n",
    "    return np.array([np.linalg.norm(c1 - c2) for c1, c2 in combinations(pos, 2)])\n",
    "\n",
    "def mb(sigma: float, size: tuple) -> np.ndarray:\n",
    "    return np.sqrt(np.sum([np.square(np.random.normal(0, sigma, size=size)) for _ in range(3)], axis=0))\n",
    "\n",
    "def mb_pdf(x: np.ndarray, a: float) -> np.ndarray:\n",
    "    return np.where(x > 0,\n",
    "        np.sqrt(2 / np.pi) * np.power(x, 2) * np.exp(- np.power(x, 2) / (2 * np.power(a, 2))) / np.power(a, 3),\n",
    "        0)\n",
    "\n",
    "def normal_pdf(x: np.ndarray, sigma: float) -> np.ndarray:\n",
    "    return np.exp(- np.square(x / sigma) / 2) / (sigma * np.sqrt(2 * np.pi))"
   ]
  },
  {
   "cell_type": "code",
   "execution_count": null,
   "metadata": {},
   "outputs": [],
   "source": [
    "PANEL = sns.color_palette(\"Blues\", 10)[-5:]\n",
    "ALPHA_COLOR = sns.color_palette(\"Blues\", 10)[2]"
   ]
  },
  {
   "cell_type": "code",
   "execution_count": null,
   "metadata": {},
   "outputs": [],
   "source": [
    "D = 10\n",
    "sigmas = np.linspace(5, 30, 5)\n",
    "d_distr = {}\n",
    "for sigma in sigmas:\n",
    "    d_distance = []\n",
    "    for _ in tqdm(range(int(5e5))):\n",
    "        pos = np.array([[0, 0, 0], [D, 0, 0]])\n",
    "        pos_ = pos + np.random.normal(0, sigma, size=pos.shape)\n",
    "        d_distance.append(pos_to_distance(pos_) - pos_to_distance(pos))\n",
    "    d_distr[sigma] = np.stack(d_distance).reshape(-1)"
   ]
  },
  {
   "cell_type": "code",
   "execution_count": null,
   "metadata": {},
   "outputs": [],
   "source": [
    "def p(x: np.ndarray, sigma: float) -> np.ndarray:\n",
    "    k = 2 / gamma((3 - 2 * np.exp(- sigma)) / 2)\n",
    "    return k * np.power(x + D, 2 * np.power(1 - np.exp(- sigma / D), np.sqrt(np.pi) / 4)) * np.exp(- np.square(x) / 4 / np.square(sigma))"
   ]
  },
  {
   "cell_type": "code",
   "execution_count": null,
   "metadata": {},
   "outputs": [],
   "source": [
    "for i in range(5):\n",
    "    fig = plt.figure(figsize=(10, 10), dpi=200)\n",
    "    sns.set(context='notebook', style='ticks', font_scale=3)\n",
    "    linewidth = 8\n",
    "    for v in d_distr.values():\n",
    "        sns.kdeplot(data=v, linewidth=linewidth, color=ALPHA_COLOR, legend=False, alpha=0.6)\n",
    "    sns.kdeplot(data=list(d_distr.values())[i], linewidth=linewidth, color=PANEL[i], legend=False)\n",
    "    plt.yticks([])\n",
    "    # plt.legend()\n",
    "    plt.ylabel(None)\n",
    "    plt.savefig(f'distr-shift-{i}.pdf')"
   ]
  },
  {
   "cell_type": "code",
   "execution_count": null,
   "metadata": {},
   "outputs": [],
   "source": [
    "normals = [np.random.normal(0, i, size=int(1e5)) for i in np.linspace(5, 30, 5) / np.sqrt(2)]\n",
    "for i in tqdm(range(5)):\n",
    "    fig = plt.figure(figsize=(10, 10), dpi=200)\n",
    "    sns.set(context='notebook', style='ticks', font_scale=3)\n",
    "    linewidth = 8\n",
    "    for v in normals:\n",
    "        sns.kdeplot(data=v, linewidth=linewidth, color=ALPHA_COLOR, legend=False, alpha=0.6)\n",
    "    sns.kdeplot(data=normals[i], linewidth=linewidth, color=PANEL[i], legend=False)\n",
    "    plt.yticks([])\n",
    "    # plt.legend()\n",
    "    plt.ylabel(None)\n",
    "    plt.savefig(f'gaussian-{i}.pdf')"
   ]
  }
 ],
 "metadata": {
  "kernelspec": {
   "display_name": "pytorch",
   "language": "python",
   "name": "python3"
  },
  "language_info": {
   "codemirror_mode": {
    "name": "ipython",
    "version": 3
   },
   "file_extension": ".py",
   "mimetype": "text/x-python",
   "name": "python",
   "nbconvert_exporter": "python",
   "pygments_lexer": "ipython3",
   "version": "3.9.16"
  },
  "orig_nbformat": 4
 },
 "nbformat": 4,
 "nbformat_minor": 2
}
